{
 "cells": [
  {
   "cell_type": "code",
   "execution_count": 42,
   "metadata": {},
   "outputs": [],
   "source": [
    "import os\n",
    "import pandas as pd\n",
    "import numpy as np\n",
    "from sklearn.model_selection import train_test_split, cross_val_score\n",
    "from sklearn.preprocessing import StandardScaler\n",
    "from sklearn.linear_model import LogisticRegression\n",
    "from sklearn.metrics import confusion_matrix, classification_report, roc_curve, roc_auc_score\n",
    "from sklearn.ensemble import RandomForestClassifier\n",
    "from imblearn.over_sampling import SMOTE\n",
    "import matplotlib.pyplot as plt\n",
    "\n",
    "dataset_repository = \"D:\\\\manualCDmanagement\\\\codes\\\\Projects\\\\VMs\\\\skl algorithms\\\\Logistic Regression\\\\00_datasets\\\\Loan.1\"\n",
    "dataset_name = \"loan.csv\"\n",
    "dataset_file = os.path.join(dataset_repository, dataset_name)\n",
    "df = pd.read_csv(dataset_file)\n",
    "\n",
    "df['gender'], gender_uniques = pd.factorize(df.gender)\n",
    "df['occupation'], occupation_uniques = pd.factorize(df['occupation'])\n",
    "df['education_level'], educ_level_uniques = pd.factorize(df['education_level'])\n",
    "df.marital_status, marital_status_uniques = pd.factorize(df.marital_status)\n",
    "df.loan_status, loan_status_uniques = pd.factorize(df.loan_status)\n"
   ]
  },
  {
   "cell_type": "code",
   "execution_count": 13,
   "metadata": {},
   "outputs": [],
   "source": [
    "X = df.drop('loan_status', axis=1)\n",
    "y = df['loan_status']\n",
    "X_train, X_test, y_train, y_test = train_test_split(X, y, test_size=0.4, random_state=42)\n",
    "\n",
    "\n",
    "smote = SMOTE(random_state=42)\n",
    "X_train_resampled, y_train_resampled = smote.fit_resample(X_train, y_train)\n",
    "\n",
    "\n",
    "scaler = StandardScaler()\n",
    "X_train_resampled = scaler.fit_transform(X_train_resampled)\n",
    "X_test_scaled = scaler.transform(X_test)"
   ]
  },
  {
   "cell_type": "code",
   "execution_count": 68,
   "metadata": {},
   "outputs": [],
   "source": [
    "\n",
    "model = LogisticRegression(max_iter=1000, random_state=168121, class_weight='balanced')\n",
    "model.fit(X_train_resampled, y_train_resampled)\n",
    "\n",
    "y_prob = model.predict_proba(X_test_scaled)[:, 1]\n",
    "\n",
    "\n",
    "fpr, tpr, thresholds = roc_curve(y_test, y_prob)\n",
    "j_scores = tpr - fpr\n",
    "\n",
    "\n",
    "optimal_idx = np.argmax(j_scores)\n",
    "optimal_threshold = thresholds[optimal_idx]\n",
    "# optimal_threshold = 0.8 - for  testing purposes (I thought I got 100 accuracy I was wrong if I put the threshold down)\n",
    "y_pred_adjusted = (y_prob >= optimal_threshold).astype(int)\n"
   ]
  },
  {
   "cell_type": "code",
   "execution_count": 67,
   "metadata": {},
   "outputs": [
    {
     "name": "stdout",
     "output_type": "stream",
     "text": [
      "[[20  1]\n",
      " [ 0  4]]\n",
      "              precision    recall  f1-score   support\n",
      "\n",
      "           0       1.00      0.95      0.98        21\n",
      "           1       0.80      1.00      0.89         4\n",
      "\n",
      "    accuracy                           0.96        25\n",
      "   macro avg       0.90      0.98      0.93        25\n",
      "weighted avg       0.97      0.96      0.96        25\n",
      "\n",
      "Cross-Validation ROC-AUC scores: [1. 1. 1. 1. 1.]\n",
      "Mean Cross-Validation ROC-AUC score: 1.0\n"
     ]
    }
   ],
   "source": [
    "#lower threshold\n",
    "conf_matrx = confusion_matrix(y_test, y_pred_adjusted)\n",
    "print(conf_matrx)\n",
    "\n",
    "print(classification_report(y_test, y_pred_adjusted))\n",
    "\n",
    "cross_val_scores = cross_val_score(model, X, y, cv=5, scoring='roc_auc')\n",
    "print(\"Cross-Validation ROC-AUC scores:\", cross_val_scores)\n",
    "print(\"Mean Cross-Validation ROC-AUC score:\", cross_val_scores.mean())"
   ]
  },
  {
   "cell_type": "code",
   "execution_count": 63,
   "metadata": {},
   "outputs": [
    {
     "name": "stdout",
     "output_type": "stream",
     "text": [
      "[[21  0]\n",
      " [ 0  4]]\n",
      "              precision    recall  f1-score   support\n",
      "\n",
      "           0       1.00      1.00      1.00        21\n",
      "           1       1.00      1.00      1.00         4\n",
      "\n",
      "    accuracy                           1.00        25\n",
      "   macro avg       1.00      1.00      1.00        25\n",
      "weighted avg       1.00      1.00      1.00        25\n",
      "\n",
      "Cross-Validation ROC-AUC scores: [1. 1. 1. 1. 1.]\n",
      "Mean Cross-Validation ROC-AUC score: 1.0\n"
     ]
    }
   ],
   "source": [
    "conf_matrx = confusion_matrix(y_test, y_pred_adjusted)\n",
    "print(conf_matrx)\n",
    "\n",
    "print(classification_report(y_test, y_pred_adjusted))\n",
    "\n",
    "cross_val_scores = cross_val_score(model, X, y, cv=5, scoring='roc_auc')\n",
    "print(\"Cross-Validation ROC-AUC scores:\", cross_val_scores)\n",
    "print(\"Mean Cross-Validation ROC-AUC score:\", cross_val_scores.mean())"
   ]
  }
 ],
 "metadata": {
  "kernelspec": {
   "display_name": "base",
   "language": "python",
   "name": "python3"
  },
  "language_info": {
   "codemirror_mode": {
    "name": "ipython",
    "version": 3
   },
   "file_extension": ".py",
   "mimetype": "text/x-python",
   "name": "python",
   "nbconvert_exporter": "python",
   "pygments_lexer": "ipython3",
   "version": "3.11.5"
  }
 },
 "nbformat": 4,
 "nbformat_minor": 2
}
