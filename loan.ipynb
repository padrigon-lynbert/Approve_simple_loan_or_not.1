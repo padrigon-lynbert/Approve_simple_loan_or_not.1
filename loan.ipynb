{
 "cells": [
  {
   "cell_type": "code",
   "execution_count": 97,
   "metadata": {},
   "outputs": [],
   "source": [
    "import os\n",
    "import pandas as pd\n",
    "import numpy as np\n",
    "from sklearn.model_selection import train_test_split, cross_val_score\n",
    "from sklearn.preprocessing import StandardScaler\n",
    "from sklearn.linear_model import LogisticRegression\n",
    "from sklearn.metrics import confusion_matrix, classification_report, roc_curve, roc_auc_score\n",
    "from sklearn.ensemble import RandomForestClassifier\n",
    "from imblearn.over_sampling import SMOTE\n",
    "\n",
    "dataset_repository = \"D:\\\\manualCDmanagement\\\\codes\\\\Projects\\\\VMs\\\\skl algorithms\\\\Logistic Regression\\\\00_datasets\\\\Loan.1\"\n",
    "dataset_name = \"loan.csv\"\n",
    "dataset_file = os.path.join(dataset_repository, dataset_name)\n",
    "df = pd.read_csv(dataset_file)\n",
    "\n",
    "df['gender'], gender_uniques = pd.factorize(df.gender)\n",
    "df['occupation'], occupation_uniques = pd.factorize(df['occupation'])\n",
    "df['education_level'], educ_level_uniques = pd.factorize(df['education_level'])\n",
    "df.marital_status, marital_status_uniques = pd.factorize(df.marital_status)\n",
    "df.loan_status, loan_status_uniques = pd.factorize(df.loan_status)\n",
    "\n"
   ]
  },
  {
   "cell_type": "code",
   "execution_count": 98,
   "metadata": {},
   "outputs": [],
   "source": [
    "X = df.drop('loan_status', axis=1)\n",
    "y = df['loan_status']\n",
    "X_train, X_test, y_train, y_test = train_test_split(X, y, test_size=0.4, random_state=42)\n",
    "\n",
    "\n",
    "smote = SMOTE(random_state=42)\n",
    "X_train_resampled, y_train_resampled = smote.fit_resample(X_train, y_train)\n",
    "\n",
    "\n",
    "scaler = StandardScaler()\n",
    "X_train_resampled = scaler.fit_transform(X_train_resampled)\n",
    "X_test_scaled = scaler.transform(X_test)\n"
   ]
  },
  {
   "cell_type": "code",
   "execution_count": 99,
   "metadata": {},
   "outputs": [
    {
     "name": "stdout",
     "output_type": "stream",
     "text": [
      "ROC-AUC: 1.0\n"
     ]
    }
   ],
   "source": [
    "\n",
    "model = LogisticRegression(max_iter=1000, random_state=168121, class_weight='balanced')\n",
    "model.fit(X_train_resampled, y_train_resampled)\n",
    "\n",
    "y_prob = model.predict_proba(X_test_scaled)[:, 1]\n",
    "\n",
    "\n",
    "print(\"ROC-AUC:\", roc_auc_score(y_test, y_prob))\n",
    "\n",
    "fpr, tpr, thresholds = roc_curve(y_test, y_prob)\n",
    "optimal_idx = np.argmax(tpr - fpr)\n",
    "optimal_threshold = thresholds[optimal_idx]\n",
    "\n",
    "y_pred_adjusted = (y_prob >= optimal_threshold).astype(int)"
   ]
  },
  {
   "cell_type": "code",
   "execution_count": 102,
   "metadata": {},
   "outputs": [
    {
     "name": "stdout",
     "output_type": "stream",
     "text": [
      "[[21  0]\n",
      " [ 0  4]]\n",
      "              precision    recall  f1-score   support\n",
      "\n",
      "           0       1.00      1.00      1.00        21\n",
      "           1       1.00      1.00      1.00         4\n",
      "\n",
      "    accuracy                           1.00        25\n",
      "   macro avg       1.00      1.00      1.00        25\n",
      "weighted avg       1.00      1.00      1.00        25\n",
      "\n",
      "Cross-Validation ROC-AUC scores: [1. 1. 1. 1. 1.]\n",
      "Mean Cross-Validation ROC-AUC score: 1.0\n"
     ]
    }
   ],
   "source": [
    "\n",
    "conf_matrx = confusion_matrix(y_test, y_pred_adjusted)\n",
    "print(conf_matrx)\n",
    "\n",
    "print(classification_report(y_test, y_pred_adjusted))\n",
    "\n",
    "# Cross-validation to check model consistency\n",
    "cross_val_scores = cross_val_score(model, X, y, cv=5, scoring='roc_auc')\n",
    "print(\"Cross-Validation ROC-AUC scores:\", cross_val_scores)\n",
    "print(\"Mean Cross-Validation ROC-AUC score:\", cross_val_scores.mean())"
   ]
  },
  {
   "cell_type": "markdown",
   "metadata": {},
   "source": [
    "💀 What in the word is wrong that I am getting 100% accuracy?!!"
   ]
  }
 ],
 "metadata": {
  "kernelspec": {
   "display_name": "base",
   "language": "python",
   "name": "python3"
  },
  "language_info": {
   "codemirror_mode": {
    "name": "ipython",
    "version": 3
   },
   "file_extension": ".py",
   "mimetype": "text/x-python",
   "name": "python",
   "nbconvert_exporter": "python",
   "pygments_lexer": "ipython3",
   "version": "3.11.5"
  }
 },
 "nbformat": 4,
 "nbformat_minor": 2
}
